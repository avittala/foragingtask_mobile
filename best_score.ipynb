{
 "cells": [
  {
   "cell_type": "code",
   "execution_count": 2,
   "metadata": {},
   "outputs": [],
   "source": [
    "import numpy as np"
   ]
  },
  {
   "cell_type": "code",
   "execution_count": 15,
   "metadata": {},
   "outputs": [
    {
     "name": "stdout",
     "output_type": "stream",
     "text": [
      "1 40.0\n",
      "2 61.0\n",
      "3 65.7\n",
      "4 72.56\n",
      "5 65.46199999999999\n",
      "6 58.82339999999999\n",
      "7 61.176379999999995\n",
      "8 60.823432999999994\n",
      "9 59.71921309999999\n",
      "10 57.721749169999995\n"
     ]
    }
   ],
   "source": [
    "t = 2.5 # apple_time + reaction_time + harvest_time\n",
    "d = 8.5 #2.0/8.5 # reaction_time + travel_time\n",
    "time = 45\n",
    "k = 0.7\n",
    "r0 = 10\n",
    "\n",
    "n_harvests = [1,2,3,4,5,6,7,8,9,10]\n",
    "for n in n_harvests:\n",
    "\ttotal = 0\n",
    "\ttime_left = time\n",
    "\twhile time_left > n*t:\n",
    "\t\tfor i in range(n):\n",
    "\t\t\ttotal += r0*(k**i)\n",
    "\t\ttime_left -= n*t\n",
    "\t\ttime_left -= d\n",
    "\tfinal_harvest_n = int(np.floor(time_left/t))\n",
    "\tfor i in range(final_harvest_n):\n",
    "\t\ttotal += r0*(k**i)\n",
    "\tprint(n,total)\n",
    "\n",
    "\t"
   ]
  },
  {
   "cell_type": "code",
   "execution_count": null,
   "metadata": {},
   "outputs": [],
   "source": []
  }
 ],
 "metadata": {
  "kernelspec": {
   "display_name": "Python 3",
   "language": "python",
   "name": "python3"
  },
  "language_info": {
   "codemirror_mode": {
    "name": "ipython",
    "version": 3
   },
   "file_extension": ".py",
   "mimetype": "text/x-python",
   "name": "python",
   "nbconvert_exporter": "python",
   "pygments_lexer": "ipython3",
   "version": "3.8.6"
  }
 },
 "nbformat": 4,
 "nbformat_minor": 2
}
